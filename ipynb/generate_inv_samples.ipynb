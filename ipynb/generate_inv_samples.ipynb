{
 "cells": [
  {
   "cell_type": "code",
   "execution_count": 1,
   "metadata": {},
   "outputs": [
    {
     "name": "stdout",
     "output_type": "stream",
     "text": [
      "use_cuda: True\n"
     ]
    }
   ],
   "source": [
    "import os\n",
    "os.environ['CUDA_VISIBLE_DEVICES'] = '6'\n",
    "\n",
    "import sys\n",
    "sys.path.append('/home/chendian/PURE')\n",
    "\n",
    "import time\n",
    "import logging\n",
    "from glob import glob\n",
    "from pure_api import PureApi\n",
    "from shared.data_structures import Dataset"
   ]
  },
  {
   "cell_type": "code",
   "execution_count": 67,
   "metadata": {},
   "outputs": [
    {
     "name": "stdout",
     "output_type": "stream",
     "text": [
      "The entities in current dataset have 1682 unique chars.\n"
     ]
    }
   ],
   "source": [
    "task_name = 'resume'\n",
    "from modules.sample_augmentor import SampleAugmentor\n",
    "augmentor = SampleAugmentor(\n",
    "    sample_file_dir=f'/home/chendian/PURE/data/{task_name}/', \n",
    "    task_name=task_name,\n",
    "    elib_path=None)"
   ]
  },
  {
   "cell_type": "code",
   "execution_count": 68,
   "metadata": {},
   "outputs": [
    {
     "data": {
      "text/plain": [
       "{1: '公司', 2: '人名', 3: '地址', 4: '学历', 5: '专业', 6: '国籍', 7: '民族', 8: '职称'}"
      ]
     },
     "execution_count": 68,
     "metadata": {},
     "output_type": "execute_result"
    }
   ],
   "source": [
    "augmentor.ner_id2label"
   ]
  },
  {
   "cell_type": "code",
   "execution_count": 69,
   "metadata": {},
   "outputs": [],
   "source": [
    "from modules.span_filter import SpanFilter\n",
    "from run_entity import get_labelmap, task_ner_labels\n",
    "ner_label2id, ner_id2label = get_labelmap(task_ner_labels[task_name])\n",
    "num_ner_labels = len(ner_label2id.keys()) + 1\n",
    "\n",
    "import numpy as np\n",
    "span_filter = SpanFilter(\n",
    "    ner_label2id=ner_label2id,\n",
    "    max_span_length=25,\n",
    "    drop_with_punc=True,\n",
    "    filter_method=np.max,\n",
    "    filter_threshold=0.0,\n",
    "    boundary_only_mode='targeted',\n",
    "    method='',\n",
    ")"
   ]
  },
  {
   "cell_type": "code",
   "execution_count": 56,
   "metadata": {},
   "outputs": [],
   "source": [
    "import json\n",
    "# inv_dump_path = f'/home/chendian/PURE/data/msra_origin/inv_test.json'\n",
    "inv_dump_path = f'/home/chendian/PURE/data/msra_inv/dev_org.json'\n",
    "origin_msra_inv = json.load(open(inv_dump_path, 'r'))"
   ]
  },
  {
   "cell_type": "code",
   "execution_count": 70,
   "metadata": {},
   "outputs": [],
   "source": [
    "import json\n",
    "task_name = 'resume'\n",
    "inv_dump_path = f'/home/chendian/PURE/data/{task_name}/inv_test_500.json'\n",
    "resume_inv = json.load(open(inv_dump_path, 'r'))"
   ]
  },
  {
   "cell_type": "code",
   "execution_count": 56,
   "metadata": {},
   "outputs": [],
   "source": [
    "import json\n",
    "task_name = 'onto4'\n",
    "inv_dump_path = f'/home/chendian/PURE/data/{task_name}/inv_test_500.json'\n",
    "onto4_inv = json.load(open(inv_dump_path, 'r'))"
   ]
  },
  {
   "cell_type": "code",
   "execution_count": 71,
   "metadata": {},
   "outputs": [
    {
     "name": "stderr",
     "output_type": "stream",
     "text": [
      "11/15/2021 17:01:39 - INFO - root - # Overlap: 0\n",
      "11/15/2021 17:01:39 - INFO - root - Extracted 279 samples from 1 documents, with 279 NER labels, 22.986 avg input length, 167 max length\n",
      "11/15/2021 17:01:39 - INFO - root - Max Length: 167, max NER: 1\n",
      "11/15/2021 17:01:39 - INFO - root - Span Candidates' Count: 279, Cover: 279\n"
     ]
    }
   ],
   "source": [
    "from entity.utils import convert_dataset_to_samples\n",
    "data = Dataset(inv_dump_path)\n",
    "_samples, _ner = convert_dataset_to_samples(\n",
    "    data, 25, context_window=0,\n",
    "    span_filter=span_filter, \n",
    "    is_training=False)"
   ]
  },
  {
   "cell_type": "code",
   "execution_count": null,
   "metadata": {},
   "outputs": [],
   "source": [
    "inv_dump_heatmap_path = f'/home/chendian/PURE/data/{task_name}/inv_test_heatmap.json'"
   ]
  },
  {
   "cell_type": "code",
   "execution_count": null,
   "metadata": {},
   "outputs": [],
   "source": [
    "# samples = augmentor.get_samples_from_jsonl(inv_dump_path)"
   ]
  },
  {
   "cell_type": "code",
   "execution_count": 5,
   "metadata": {},
   "outputs": [],
   "source": [
    "ds = Dataset(inv_dump_path)"
   ]
  },
  {
   "cell_type": "code",
   "execution_count": 46,
   "metadata": {},
   "outputs": [],
   "source": [
    "from tqdm import tqdm\n",
    "from entity.utils import (\n",
    "    batchify, convert_dataset_to_samples,\n",
    "    logger, output_ner_predictions, NpEncoder)\n",
    "\n",
    "def get_jsonl_from_samples(self, samples, output_file=None, doc_key='dummy'):\n",
    "    js = []\n",
    "    doc = {'sentences': [], 'ner': [], 'relations': [], 'doc_key': doc_key}\n",
    "    offset = 0\n",
    "    for sample in tqdm(samples):\n",
    "        doc['sentences'].append(sample['tokens'])\n",
    "        ner_case = []\n",
    "        for _sp, _l in zip(sample['spans'], sample['spans_label']):\n",
    "            ner_case.append([_sp[0] + offset, _sp[1] + offset, self.ner_id2label[_l]])\n",
    "        doc['ner'].append(ner_case)\n",
    "        offset += len(sample['tokens'])\n",
    "    doc['relations'] = [[] for _ in doc['ner']]\n",
    "    js.append(doc)\n",
    "    if output_file:\n",
    "        with open(output_file, 'w') as f:\n",
    "            f.write('\\n'.join(json.dumps(doc, cls=NpEncoder) for doc in js))\n",
    "    return js"
   ]
  },
  {
   "cell_type": "code",
   "execution_count": 75,
   "metadata": {},
   "outputs": [
    {
     "data": {
      "text/plain": [
       "(90, 92, 8280)"
      ]
     },
     "execution_count": 75,
     "metadata": {},
     "output_type": "execute_result"
    }
   ],
   "source": [
    "ent_case = []\n",
    "sample_case = []\n",
    "for sample in _samples:\n",
    "    if sample['spans_label'][0] != 2:\n",
    "        continue\n",
    "    sample_case.append(sample)\n",
    "    tokens = sample['tokens']\n",
    "    for lef, rig, _ in sample['spans']:\n",
    "        ent = tokens[lef:rig+1]\n",
    "        if ent not in ent_case:\n",
    "            ent_case.append(ent)\n",
    "inv_samples = augmentor.generate_inv_samples(samples=sample_case, entities=ent_case)\n",
    "\n",
    "len(ent_case), len(sample_case), len(inv_samples)"
   ]
  },
  {
   "cell_type": "code",
   "execution_count": 74,
   "metadata": {},
   "outputs": [
    {
     "name": "stderr",
     "output_type": "stream",
     "text": [
      "100%|██████████| 27302/27302 [00:00<00:00, 366640.69it/s]\n"
     ]
    },
    {
     "name": "stdout",
     "output_type": "stream",
     "text": [
      "1 27302\n"
     ]
    }
   ],
   "source": [
    "js_org = get_jsonl_from_samples(\n",
    "    augmentor, samples=inv_samples,\n",
    "    output_file=f'/home/chendian/PURE/data/{task_name}/inv_test_org.json', \n",
    "    doc_key='onto4-inv-org')\n",
    "print(len(js_org), len(js_org[0]['sentences']))"
   ]
  },
  {
   "cell_type": "code",
   "execution_count": 76,
   "metadata": {},
   "outputs": [
    {
     "name": "stderr",
     "output_type": "stream",
     "text": [
      "100%|██████████| 8280/8280 [00:00<00:00, 355344.02it/s]"
     ]
    },
    {
     "name": "stdout",
     "output_type": "stream",
     "text": [
      "1 8280\n"
     ]
    },
    {
     "name": "stderr",
     "output_type": "stream",
     "text": [
      "\n"
     ]
    }
   ],
   "source": [
    "js_per = get_jsonl_from_samples(\n",
    "    augmentor, samples=inv_samples,\n",
    "    output_file=f'/home/chendian/PURE/data/{task_name}/inv_test_per.json', \n",
    "    doc_key='onto4-inv-per')\n",
    "print(len(js_per), len(js_per[0]['sentences']))"
   ]
  },
  {
   "cell_type": "code",
   "execution_count": 77,
   "metadata": {},
   "outputs": [
    {
     "data": {
      "text/plain": [
       "(2, 'resume')"
      ]
     },
     "execution_count": 77,
     "metadata": {},
     "output_type": "execute_result"
    }
   ],
   "source": [
    "js = js_per + js_org \n",
    "with open(f'/home/chendian/PURE/data/{task_name}/inv_test_all.json', 'w') as f:\n",
    "    f.write('\\n'.join(json.dumps(doc, cls=NpEncoder) for doc in js))\n",
    "len(js), task_name"
   ]
  },
  {
   "cell_type": "code",
   "execution_count": 73,
   "metadata": {},
   "outputs": [
    {
     "data": {
      "text/plain": [
       "{'doc_key': 'resume-doc-selected-500',\n",
       " 'sentence_ix': 0,\n",
       " 'tokens': ['T', 'C', 'L', '电', '脑', '公', '司', '独', '立', '董', '事', '；'],\n",
       " 'sent_length': 12,\n",
       " 'sent_start': 0,\n",
       " 'sent_end': 12,\n",
       " 'sent_start_in_doc': 0,\n",
       " 'spans': [(0, 6, 7)],\n",
       " 'spans_label': [1],\n",
       " 'positive_labels_count': 1,\n",
       " 'positive_labels_cover': 1}"
      ]
     },
     "execution_count": 73,
     "metadata": {},
     "output_type": "execute_result"
    }
   ],
   "source": [
    "inv_samples[12]"
   ]
  },
  {
   "cell_type": "code",
   "execution_count": 62,
   "metadata": {},
   "outputs": [
    {
     "data": {
      "text/plain": [
       "(73.0, 61.0)"
      ]
     },
     "execution_count": 62,
     "metadata": {},
     "output_type": "execute_result"
    }
   ],
   "source": []
  },
  {
   "cell_type": "code",
   "execution_count": 90,
   "metadata": {},
   "outputs": [
    {
     "data": {
      "image/png": "[encoded data removed]",
      "text/plain": [
       "<Figure size 1728x504 with 12 Axes>"
      ]
     },
     "metadata": {
      "needs_background": "light"
     },
     "output_type": "display_data"
    }
   ],
   "source": [
    "import pickle\n",
    "import warnings\n",
    "import seaborn as sns\n",
    "from pylab import *  # 支持中文\n",
    "import matplotlib.pyplot as plt\n",
    "\n",
    "def draw_multi_heatmap():\n",
    "    # plt.rcParams['font.sans-serif'] = ['SimHei']  # 用来正常显示中文标签\n",
    "    plt.rcParams['axes.unicode_minus'] = False  # 用来正常显示负号\n",
    "\n",
    "    plt.figure(figsize=(24, 7))\n",
    "    plt.figure(1)\n",
    "\n",
    "    model_case = ['LSTM-CRF', 'LatticeLSTM', 'Bert-CRF', 'Bert-CRF-with-Aug', 'PURE', 'NCModel']\n",
    "    show_name_case = ['BiLSTM-CRF', 'LatticeLSTM', 'Bert-CRF', 'Bert-CRF(+Aug)', 'PURE-CN', 'NC Model(Ours)']\n",
    "    tag_type_case = ['PER', 'ORG']\n",
    "    irol = len(tag_type_case)\n",
    "    icol = len(model_case)\n",
    "    hm_pos_case = [(irol, icol, x) for x in range(1, irol * icol + 1)]\n",
    "    for idx, hm_pos in enumerate(hm_pos_case):\n",
    "        ax = plt.subplot(*hm_pos)\n",
    "        cmap = sns.cubehelix_palette(start=(hm_pos[-1] - 1) // icol, gamma=0.5, light=.9, as_cmap=True)\n",
    "        dat = pickle.load(\n",
    "            open('/home/chendian/doc_ner/data/heatmap/{}_{}.pkl'.format(\n",
    "                tag_type_case[idx // icol], model_case[idx % icol]), 'rb'))\n",
    "        # dat = (np.random.random([20, 50]) > 0.5).astype(int)\n",
    "        sns.heatmap(dat,\n",
    "                    cmap=cmap, linewidths=0, ax=ax, cbar=False).invert_yaxis()\n",
    "        if tag_type_case[idx // icol] == 'PER':\n",
    "            ax.set_title('{}'.format(\n",
    "                show_name_case[idx % icol]\n",
    "            ), fontdict={'weight': 'bold', 'size': 30})\n",
    "            if show_name_case[idx % icol] == \"BiLSTM-CRF\":\n",
    "                ax.set_ylabel('PER entity index', fontdict={'weight': 'normal', 'size': 22})\n",
    "        else:\n",
    "            ax.set_xlabel('Sample index', fontdict={'weight': 'normal', 'size': 24})\n",
    "            if show_name_case[idx % icol] == \"BiLSTM-CRF\":\n",
    "                ax.set_ylabel('ORG entity index', fontdict={'weight': 'normal', 'size': 22})\n",
    "\n",
    "    plt.tight_layout(pad=0.2, w_pad=2.0, h_pad=1.5)\n",
    "    plt.savefig('./sns_heatmap_normal_211115.jpg', bbox_inches='tight')\n",
    "    plt.show()\n",
    "    \n",
    "    \n",
    "draw_multi_heatmap()"
   ]
  },
  {
   "cell_type": "code",
   "execution_count": 85,
   "metadata": {},
   "outputs": [
    {
     "name": "stdout",
     "output_type": "stream",
     "text": [
      "total 515M\n",
      "-rw-rw-r-- 1 chendian chendian  68M Nov 16 13:26 ent_pred_test.json\n",
      "-rw-rw-r-- 1 chendian chendian  17K Nov 16 13:26 train.log\n",
      "-rw-rw-r-- 1 chendian chendian 2.0M Nov 16 12:08 inv_test_org_ent_pred_test.json\n",
      "-rw-rw-r-- 1 chendian chendian 3.3K Nov 16 12:08 eval.log\n",
      "-rw-rw-r-- 1 chendian chendian 2.5M Nov 16 12:05 inv_test_per_ent_pred_test.json\n",
      "-rw-rw-r-- 1 chendian chendian 4.4M Nov 16 11:59 inv_test_all_ent_pred_test.json\n",
      "-rw-rw-r-- 1 chendian chendian 107K Nov 16 02:53 vocab.txt\n",
      "-rw-rw-r-- 1 chendian chendian  112 Nov 16 02:53 special_tokens_map.json\n",
      "-rw-rw-r-- 1 chendian chendian   62 Nov 16 02:53 tokenizer_config.json\n",
      "-rw-rw-r-- 1 chendian chendian 439M Nov 16 02:53 pytorch_model.bin\n",
      "-rw-rw-r-- 1 chendian chendian  657 Nov 16 02:53 config.json\n"
     ]
    }
   ],
   "source": [
    "!ls -lht /data/chendian/nc_output_dir/msra_origin_spanc_3e2_wnca_biaffine_aug_fix/"
   ]
  },
  {
   "cell_type": "code",
   "execution_count": 88,
   "metadata": {},
   "outputs": [
    {
     "name": "stdout",
     "output_type": "stream",
     "text": [
      "0.09265858873841767\n"
     ]
    }
   ],
   "source": [
    "import numpy as np\n",
    "\n",
    "mat = np.ones([200, 200])\n",
    "max_row, max_col = 0, 0\n",
    "# inv_test_on_msra = json.load(open('/home/chendian/PURE/inv_test_on_msra_per.json', 'r'))\n",
    "# inv_test_on_msra = json.load(open('/home/chendian/PURE/inv_test_on_msra_org.json', 'r'))\n",
    "inv_test_on_msra = json.load(open('/data/chendian/nc_output_dir/msra_origin_spanc_3e2_wnca_biaffine_aug_fix/inv_test_org_ent_pred_test.json', 'r'))\n",
    "\n",
    "# MSRA\n",
    "# 3796 = 52 x 73, 2806 = 46 x 61\n",
    "# n_samples = 73\n",
    "n_samples = 46\n",
    "for idx, labels in enumerate(inv_test_on_msra['ner']):\n",
    "    preds = inv_test_on_msra['predicted_ner'][idx]\n",
    "    # row, col = idx // n_samples, idx % n_samples\n",
    "    row, col = idx % n_samples, idx // n_samples\n",
    "    max_row = max(row, max_row)\n",
    "    max_col = max(col, max_col)\n",
    "    for _l, _p in zip(labels, preds):\n",
    "        if _l == _p:\n",
    "            mat[row, col] = 0\n",
    "        else:\n",
    "            mat[row, col] = 0.5\n",
    "\n",
    "mat = mat[:max_row + 1, :max_col + 1]\n",
    "print((mat > 0).sum() / (mat.shape[0] * mat.shape[1]))\n",
    "\n",
    "import pickle\n",
    "pickle.dump(mat, open('/home/chendian/doc_ner/data/heatmap/ORG_NCModel.pkl', 'wb'))\n",
    "# pickle.dump(mat, open('/home/chendian/doc_ner/data/heatmap/PER_NCModel.pkl', 'wb'))\n",
    "# return mat"
   ]
  },
  {
   "cell_type": "code",
   "execution_count": 103,
   "metadata": {},
   "outputs": [
    {
     "data": {
      "text/plain": [
       "(46.0, 46.0)"
      ]
     },
     "execution_count": 103,
     "metadata": {},
     "output_type": "execute_result"
    }
   ],
   "source": [
    "len(inv_test_on_msra['ner']) / 61, len(inv_test_on_msra['predicted_ner']) / 61"
   ]
  },
  {
   "cell_type": "code",
   "execution_count": 82,
   "metadata": {},
   "outputs": [
    {
     "data": {
      "text/plain": [
       "array([[0., 1., 0., ..., 0., 1., 0.],\n",
       "       [0., 0., 1., ..., 0., 0., 0.],\n",
       "       [0., 0., 0., ..., 0., 0., 0.],\n",
       "       ...,\n",
       "       [0., 0., 0., ..., 0., 0., 0.],\n",
       "       [0., 0., 0., ..., 0., 0., 0.],\n",
       "       [0., 0., 0., ..., 1., 1., 1.]])"
      ]
     },
     "execution_count": 82,
     "metadata": {},
     "output_type": "execute_result"
    }
   ],
   "source": [
    "mat"
   ]
  }
 ],
 "metadata": {
  "kernelspec": {
   "display_name": "pure",
   "language": "python",
   "name": "pure"
  },
  "language_info": {
   "codemirror_mode": {
    "name": "ipython",
    "version": 3
   },
   "file_extension": ".py",
   "mimetype": "text/x-python",
   "name": "python",
   "nbconvert_exporter": "python",
   "pygments_lexer": "ipython3",
   "version": "3.6.13"
  }
 },
 "nbformat": 4,
 "nbformat_minor": 4
}
